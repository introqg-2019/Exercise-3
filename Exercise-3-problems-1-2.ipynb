{
 "cells": [
  {
   "cell_type": "markdown",
   "metadata": {
    "deletable": false,
    "editable": false,
    "nbgrader": {
     "cell_type": "markdown",
     "checksum": "4a843cc6b8ff071f863be9ac18ab5d28",
     "grade": false,
     "grade_id": "cell-24c2dfd47f79a0c1",
     "locked": true,
     "schema_version": 3,
     "solution": false
    }
   },
   "source": [
    "# Problem 1: Steady-state diffusive hillslope profiles (*12.5 points*)\n",
    "\n",
    "In this exercise, you will be plotting a diffusive hillslope profile and exploring the effect of various parameters on the hillslope geometry. We'll start by creating a function for calculating the hillslope profiles, then explore the model behavior using different input parameter values and plotting the results.\n",
    "\n",
    "**Notice**: Closely follow the instructions! For example, you should be sure to use **exactly** the same variable names mentioned in the instructions because your answers will be automatically graded, and the tests that grade your answers rely on following the same formatting or variable naming as in the instructions.\n",
    "\n",
    "**Your score on this problem will be based on following criteria**:\n",
    "\n",
    "- Properly converting the hillslope diffusion equation to a Python function\n",
    "- Calculating hillslope profiles for a range of input values\n",
    "- Plotting your results\n",
    "- Including comments that explain what most lines in the code do\n",
    "- Uploading your notebook to your GitHub repository for this week's exercise"
   ]
  },
  {
   "cell_type": "markdown",
   "metadata": {
    "deletable": false,
    "editable": false,
    "nbgrader": {
     "cell_type": "markdown",
     "checksum": "1cb3b36504fe0f71d66ef4fcc0c871a8",
     "grade": false,
     "grade_id": "cell-4621dd9c86a7652f",
     "locked": true,
     "schema_version": 3,
     "solution": false
    }
   },
   "source": [
    "## Part 1: Defining a hillslope profile function (*2 points*)\n",
    "\n",
    "Your first task for this problem is to define a function to calculate the geometry of an *interfluve* (the region between two adjacent river valleys) shaped by hillslope diffusion. As we saw briefly in the [lesson for this week](https://introqg.github.io/site/lessons/L3/solving-diffusion.html), we can calculate this geometry using the diffusion equation for a hillslope profile that has the rivers located at $x = ±L$ and the apex of the interfluve at $x = 0$. If we assume the landscape is being uplifted at a rate $U$ and that the rivers elevations are fixed at $h = 0$, we find that the elevation of the interfluve is\n",
    "\n",
    "\\begin{equation}\n",
    "  \\Large\n",
    "  h(x) = \\frac{U}{2 \\kappa}\\left(L^{2} - x^{2} \\right)\n",
    "\\end{equation}\n",
    "\n",
    "where $\\kappa$ is the sediment/soil diffusivity.\n",
    "\n",
    "- Create a function called `hillslope_diffusion` that calculates the elevation of the interfluve $h$ as a function of horizontal distance $x$.\n",
    "    - Your function should take the half-interfluve width `L`, the list of values at which the elevation $h$ should be calculated `x`, the landscape uplift rate `U`, and the sediment/soil diffusivity `kappa` as parameters.\n",
    "    - **Note**: You can use a `for` loop inside your function, but it is not strictly necessary"
   ]
  },
  {
   "cell_type": "code",
   "execution_count": null,
   "metadata": {
    "deletable": false,
    "editable": false,
    "nbgrader": {
     "cell_type": "code",
     "checksum": "5bc7b628d67615c451eaf340dda072e9",
     "grade": false,
     "grade_id": "cell-48f6e96d09ffc56c",
     "locked": true,
     "schema_version": 3,
     "solution": false
    }
   },
   "outputs": [],
   "source": [
    "# Run this cell first to import the libraries we need and configure the plotting\n",
    "\n",
    "# Import NumPy, Pandas, and Matplotlib\n",
    "import numpy as np\n",
    "import pandas as pd\n",
    "import matplotlib.pyplot as plt\n",
    "\n",
    "# Inline plotting in the Jupyter notebooks\n",
    "%matplotlib inline"
   ]
  },
  {
   "cell_type": "code",
   "execution_count": null,
   "metadata": {
    "deletable": false,
    "nbgrader": {
     "cell_type": "code",
     "checksum": "b1407738d8bd895f76ca93dd1682d766",
     "grade": false,
     "grade_id": "problem_1_ag_p1_hillslope_function",
     "locked": false,
     "schema_version": 3,
     "solution": true
    }
   },
   "outputs": [],
   "source": [
    "def hillslope_diffusion(L, x, U, kappa):\n",
    "    \"\"\"Calculates the elevation of a hillslope experiencing diffusion.\"\"\"\n",
    "# YOUR CODE HERE\n",
    "raise NotImplementedError()"
   ]
  },
  {
   "cell_type": "code",
   "execution_count": null,
   "metadata": {
    "deletable": false,
    "editable": false,
    "nbgrader": {
     "cell_type": "code",
     "checksum": "2a5a6f71dfa02bd374e2bb8737af5685",
     "grade": true,
     "grade_id": "problem_1_ag_p1_hillslope_function_test1",
     "locked": true,
     "points": 1,
     "schema_version": 3,
     "solution": false
    }
   },
   "outputs": [],
   "source": [
    "# These visible tests with fake data should work\n",
    "from nose.tools import assert_equal\n",
    "\n",
    "# Fake data\n",
    "L = 10\n",
    "x_test = np.linspace(-L, L, 51)\n",
    "h_test = hillslope_diffusion(L=L, x=x_test, U=0.5, kappa=0.05)\n",
    "\n",
    "# Print results\n",
    "print('Hillslope elevation at x = 0 should be 500.0. My code calculates {0:.1f}.'.format(h_test[25]))\n",
    "\n",
    "# Check that the function values are correct at the boundaries\n",
    "assert_equal(round(h_test[0], 4), 0.0000)\n",
    "assert_equal(round(h_test[-1], 4), 0.0000)\n",
    "\n",
    "# Check some random values\n",
    "assert_equal(round(h_test[35], 4), 420.0000)\n",
    "assert_equal(round(h_test[10], 4), 320.0000)"
   ]
  },
  {
   "cell_type": "code",
   "execution_count": null,
   "metadata": {
    "deletable": false,
    "editable": false,
    "nbgrader": {
     "cell_type": "code",
     "checksum": "7a194acc18e7797a2512a4a933a40941",
     "grade": true,
     "grade_id": "problem_1_ag_p1_hillslope_function_test2",
     "locked": true,
     "points": 1,
     "schema_version": 3,
     "solution": false,
     "task": false
    }
   },
   "outputs": [],
   "source": [
    "# These visible tests with fake data should work\n",
    "\n",
    "# Fake data 2\n",
    "L = 1000\n",
    "x_test2 = np.linspace(-L, L, 51)\n",
    "h_test2 = hillslope_diffusion(L=L, x=x_test2, U=5, kappa=0.2)\n",
    "\n",
    "# Print results\n",
    "print('Hillslope elevation at x = 0 should now be 12500000.0. My code calculates {0:.1f}.'.format(h_test2[25]))\n",
    "\n",
    "# Check that the function values are correct at the boundaries\n",
    "assert_equal(round(h_test2[0], 4), 0.0000)\n",
    "assert_equal(round(h_test2[-1], 4), 0.0000)\n",
    "\n",
    "# Check some random values\n",
    "assert_equal(round(h_test2[28], 4), 12320000.0)\n",
    "assert_equal(round(h_test2[1], 4), 980000.0000)"
   ]
  },
  {
   "cell_type": "markdown",
   "metadata": {
    "deletable": false,
    "editable": false,
    "nbgrader": {
     "cell_type": "markdown",
     "checksum": "47966a0ec4eba537403cfe4c5d87262d",
     "grade": false,
     "grade_id": "cell-c9ca365be324d861",
     "locked": true,
     "schema_version": 3,
     "solution": false
    }
   },
   "source": [
    "## Part 2: Calculating a hillslope geometry (*1 point*)\n",
    "\n",
    "With the `hillslope_diffusion` function defined, we can now move on to calculating the geometry of a hillslope.\n",
    "\n",
    "- Calculate the elevation of a hillslope `h` for an interfluve that has two channels located 100m apart and a landscape uplift rate $U$ of 0.5 mm/a. Assume the diffusion coefficient $\\kappa = 50 \\times 10^{-3}$m<sup>2</sup>/a and the increment for values of $x$ is 1 meter.\n",
    "    - For the variables passed to your `hillslope_diffusion` function, use the name `x` for the range of locations at which the elevation should be calculated, `L` for the inferfluve half-width, `U` for the uplift rate, and `kappa` for the diffusivity.\n",
    "    - **Note**: Be careful to ensure your units are compatible. Distance and time units should be adjusted accordingly to ensure they work together."
   ]
  },
  {
   "cell_type": "code",
   "execution_count": null,
   "metadata": {
    "deletable": false,
    "nbgrader": {
     "cell_type": "code",
     "checksum": "e0932e4394f57bba7d2b1eaf07419ae5",
     "grade": false,
     "grade_id": "problem_1_ag_p2_hillslope",
     "locked": false,
     "schema_version": 3,
     "solution": true
    }
   },
   "outputs": [],
   "source": [
    "# Define points where the hillslope elevation should be calculated\n",
    "x = None\n",
    "\n",
    "# Calculate hillslope elevation\n",
    "h = None\n",
    "\n",
    "# YOUR CODE HERE\n",
    "raise NotImplementedError()"
   ]
  },
  {
   "cell_type": "code",
   "execution_count": null,
   "metadata": {
    "deletable": false,
    "editable": false,
    "nbgrader": {
     "cell_type": "code",
     "checksum": "79c5fd313649f1506cd7578e6fd95014",
     "grade": true,
     "grade_id": "problem_1_ag_p2_hillslope_test1",
     "locked": true,
     "points": 0.5,
     "schema_version": 3,
     "solution": false,
     "task": false
    }
   },
   "outputs": [],
   "source": [
    "# This test should work\n",
    "print('x at index 20 should be -30.0. My code calculates {0:.1f}.'.format(x[20]))\n"
   ]
  },
  {
   "cell_type": "code",
   "execution_count": null,
   "metadata": {
    "deletable": false,
    "editable": false,
    "nbgrader": {
     "cell_type": "code",
     "checksum": "fec16beee45c3e15a74936f5a5e6be30",
     "grade": true,
     "grade_id": "problem_1_ag_p2_hillslope_test2",
     "locked": true,
     "points": 0.5,
     "schema_version": 3,
     "solution": false
    }
   },
   "outputs": [],
   "source": [
    "# This test should work\n",
    "print('h at index 20 should be 8.0. My code calculates {0:.1f}.'.format(h[20]))\n"
   ]
  },
  {
   "cell_type": "markdown",
   "metadata": {
    "deletable": false,
    "editable": false,
    "nbgrader": {
     "cell_type": "markdown",
     "checksum": "93c5757fd51e7f38e61002817c0c8c3b",
     "grade": false,
     "grade_id": "cell-1152dd4ddb67ef0c",
     "locked": true,
     "schema_version": 3,
     "solution": false
    }
   },
   "source": [
    "## Part 3: Plotting your results (*3 points*)\n",
    "\n",
    "Your next task is to create a pandas DataFrame to store your calculated hillslope profile, make a plot of the hillslope profile, and add a few values as text on the plot.\n",
    "\n",
    "- Create a pandas DataFrame called `hillslope` with the distance along the hillslope profile `x` as the index and a single data column called `'Default'` that contains the hillslope profile elevations `h`\n",
    "- Plot the value of `'Default'` as a function of the distance along your hillslope profile\n",
    "    - Plot this using a dashed black line\n",
    "    - It may be helpful to again increase the figure size to something like 12 inches by 8 inches\n",
    "- Add axis labels and a plot title\n",
    "- Calculate\n",
    "    1. the maximum slope of the profile as variable `max_slope`\n",
    "    2. its value in degrees as variable `max_slope_deg`\n",
    "    3. the maximum relief of the profile as variable `max_relief`\n",
    "    4. the characteristic timescale of diffusion (or time constant) as variable `tau`\n",
    "- Display the 4 values above as text on the plot using the `ax.text()` function\n",
    "    - You can find useful information about these values in the [notes on solving the diffusion equation](https://introqg.github.io/site/lessons/L3/solving-diffusion.html) in this week's lesson\n",
    "    - You may want to use [Google](https://www.google.fi) to look up the characteristic timescale of diffusion\n",
    "- Add a figure caption in the Markdown cell below the plot explaining what it shows as if it was in a scientific publication"
   ]
  },
  {
   "cell_type": "code",
   "execution_count": null,
   "metadata": {
    "deletable": false,
    "nbgrader": {
     "cell_type": "code",
     "checksum": "e114fe85fa858e4d05cba13cd553e494",
     "grade": false,
     "grade_id": "problem_1_ag_p3_plot1",
     "locked": false,
     "schema_version": 3,
     "solution": true,
     "task": false
    }
   },
   "outputs": [],
   "source": [
    "# Make DataFrame\n",
    "hillslope = None\n",
    "\n",
    "# Calculate the hillslope properties\n",
    "max_slope = None\n",
    "max_slope_deg = None\n",
    "max_relief = None\n",
    "tau = None\n",
    "\n",
    "# Create the plot\n",
    "ax = None\n",
    "\n",
    "# YOUR CODE HERE\n",
    "raise NotImplementedError()"
   ]
  },
  {
   "cell_type": "markdown",
   "metadata": {
    "deletable": false,
    "nbgrader": {
     "cell_type": "markdown",
     "checksum": "da997d160df2f924e9c46d73b614199a",
     "grade": true,
     "grade_id": "problem_1_mg_p3_plot1",
     "locked": false,
     "points": 2,
     "schema_version": 3,
     "solution": true
    }
   },
   "source": [
    "YOUR ANSWER HERE"
   ]
  },
  {
   "cell_type": "code",
   "execution_count": null,
   "metadata": {
    "deletable": false,
    "editable": false,
    "nbgrader": {
     "cell_type": "code",
     "checksum": "ae2cde2436be8dd20f4329b66111cded",
     "grade": true,
     "grade_id": "problem_1_ag_p3_plot1_test1",
     "locked": true,
     "points": 0.5,
     "schema_version": 3,
     "solution": false,
     "task": false
    }
   },
   "outputs": [],
   "source": [
    "# This test should display the first 5 rows of your DataFrame\n",
    "print('The first 5 rows of the hillslope DataFrame are\\n', hillslope.head())\n"
   ]
  },
  {
   "cell_type": "code",
   "execution_count": null,
   "metadata": {
    "deletable": false,
    "editable": false,
    "nbgrader": {
     "cell_type": "code",
     "checksum": "7fe4dc01aa22a38ee3cc9e4de33b20db",
     "grade": true,
     "grade_id": "problem_1_ag_p3_plot1_test2",
     "locked": true,
     "points": 0.5,
     "schema_version": 3,
     "solution": false,
     "task": false
    }
   },
   "outputs": [],
   "source": [
    "# This test should display the max hillslope angle in degrees\n",
    "print('The maximum hillslope angle in degrees should be 26.6. My calculated value is {0:.1f}.'.format(max_slope_deg))\n"
   ]
  },
  {
   "cell_type": "markdown",
   "metadata": {
    "deletable": false,
    "editable": false,
    "nbgrader": {
     "cell_type": "markdown",
     "checksum": "05b9ceb5c16452d062bef7043571a554",
     "grade": false,
     "grade_id": "cell-9a07bb11909e7b39",
     "locked": true,
     "schema_version": 3,
     "solution": false
    }
   },
   "source": [
    "## Part 4: Exploring the model (*4.5 points*)\n",
    "\n",
    "Your next task is to explore the effect of different parameters on the hillslope geometry.\n",
    "\n",
    "- Make an additional **three** plots for the three variations of the hillslope model parameters below, with each plot created in a separate Python cell\n",
    "    - In each case be sure you only vary a single parameter from the original values given in Part 2\n",
    "    - Store the resulting hillslope profiles as new columns in your `hillslope` DataFrame using the names below:\n",
    "        1. Double the uplift rate `U` and store the hillslope profile in column `'Double uplift'`\n",
    "        2. Double the diffusivity `kappa` and store the hillslope profile in column `'Double diffusivity'`\n",
    "        3. Reduce the diffusivity `kappa` by half and store the hillslope profile in column `'Half diffusivity'`\n",
    "    - To make it easy to compare to the first plot, plot the `'Default'` hillslope profile from Part 3 as a black dashed line and the value you are asked to calculate in a color of your choosing (not black, please :D)\n",
    "    - As above, be sure to include axis labels, a title, and the calculated hillslope properties (e.g., slope, maximum relief, etc.) as text on the plot\n",
    "- Add a figure caption in the Markdown cell beneath **each** plot explaining what it shows as if it was in a scientific publication."
   ]
  },
  {
   "cell_type": "markdown",
   "metadata": {
    "deletable": false,
    "editable": false,
    "nbgrader": {
     "cell_type": "markdown",
     "checksum": "f17fc48c15eece0cd4119a340dff0e2b",
     "grade": false,
     "grade_id": "cell-cbc6de4dd5c11893",
     "locked": true,
     "schema_version": 3,
     "solution": false,
     "task": false
    }
   },
   "source": [
    "### Part 4, plot 1: Double the uplift rate\n",
    "\n",
    "Please create the plot and do the related calculations below."
   ]
  },
  {
   "cell_type": "code",
   "execution_count": null,
   "metadata": {
    "deletable": false,
    "nbgrader": {
     "cell_type": "code",
     "checksum": "b97c1ae2ec7aee66382660f992c970f6",
     "grade": false,
     "grade_id": "problem_1_ag_p4_plot2",
     "locked": false,
     "schema_version": 3,
     "solution": true,
     "task": false
    }
   },
   "outputs": [],
   "source": [
    "# Double the uplift rate\n",
    "hillslope['Double uplift'] = None\n",
    "\n",
    "# YOUR CODE HERE\n",
    "raise NotImplementedError()"
   ]
  },
  {
   "cell_type": "markdown",
   "metadata": {
    "deletable": false,
    "nbgrader": {
     "cell_type": "markdown",
     "checksum": "9dbd713515c9749c576fab13b457e23c",
     "grade": true,
     "grade_id": "problem_1_mg_p4_plot2",
     "locked": false,
     "points": 1,
     "schema_version": 3,
     "solution": true
    }
   },
   "source": [
    "YOUR ANSWER HERE"
   ]
  },
  {
   "cell_type": "code",
   "execution_count": null,
   "metadata": {
    "deletable": false,
    "editable": false,
    "nbgrader": {
     "cell_type": "code",
     "checksum": "8b2e8e354bbea78f9f1f2519088fe396",
     "grade": true,
     "grade_id": "problem_1_ag_p4_plot2_test1",
     "locked": true,
     "points": 0.5,
     "schema_version": 3,
     "solution": false,
     "task": false
    }
   },
   "outputs": [],
   "source": [
    "# This test should display the max hillslope angle in degrees\n",
    "print('The maximum hillslope angle in degrees should now be 45.0. My calculated value is {0:.1f}.'.format(max_slope_deg))\n"
   ]
  },
  {
   "cell_type": "markdown",
   "metadata": {
    "deletable": false,
    "editable": false,
    "nbgrader": {
     "cell_type": "markdown",
     "checksum": "f28a64272f07e6630d94f5f4f94cb9b0",
     "grade": false,
     "grade_id": "cell-20432352a0e3d400",
     "locked": true,
     "schema_version": 3,
     "solution": false,
     "task": false
    }
   },
   "source": [
    "### Part 4, plot 2: Double the diffusivity\n",
    "\n",
    "Please create the plot and do the related calculations below."
   ]
  },
  {
   "cell_type": "code",
   "execution_count": null,
   "metadata": {
    "deletable": false,
    "nbgrader": {
     "cell_type": "code",
     "checksum": "390ab78f260c73cf467a10bc6163fda2",
     "grade": false,
     "grade_id": "problem_1_ag_p4_plot3",
     "locked": false,
     "schema_version": 3,
     "solution": true,
     "task": false
    }
   },
   "outputs": [],
   "source": [
    "# Double the diffusivity\n",
    "hillslope['Double diffusivity'] = None\n",
    "\n",
    "# YOUR CODE HERE\n",
    "raise NotImplementedError()"
   ]
  },
  {
   "cell_type": "markdown",
   "metadata": {
    "deletable": false,
    "nbgrader": {
     "cell_type": "markdown",
     "checksum": "4a3033b4e54d6adea07674051e47d1fa",
     "grade": true,
     "grade_id": "problem_1_mg_p4_plot3",
     "locked": false,
     "points": 1,
     "schema_version": 3,
     "solution": true
    }
   },
   "source": [
    "YOUR ANSWER HERE"
   ]
  },
  {
   "cell_type": "code",
   "execution_count": null,
   "metadata": {
    "deletable": false,
    "editable": false,
    "nbgrader": {
     "cell_type": "code",
     "checksum": "8e696b9fa1efc0ce6af5934cceeb3ce0",
     "grade": true,
     "grade_id": "problem_1_ag_p4_plot3_test1",
     "locked": true,
     "points": 0.5,
     "schema_version": 3,
     "solution": false,
     "task": false
    }
   },
   "outputs": [],
   "source": [
    "# This test should display the max hillslope angle in degrees\n",
    "print('The maximum hillslope angle in degrees should now be 14.0. My calculated value is {0:.1f}.'.format(max_slope_deg))\n"
   ]
  },
  {
   "cell_type": "markdown",
   "metadata": {
    "deletable": false,
    "editable": false,
    "nbgrader": {
     "cell_type": "markdown",
     "checksum": "61fcde5f3c9ee6b340f575cabd496fd1",
     "grade": false,
     "grade_id": "cell-82556cdc31bfe2a3",
     "locked": true,
     "schema_version": 3,
     "solution": false,
     "task": false
    }
   },
   "source": [
    "### Part 4, plot 3: Half the diffusivity\n",
    "\n",
    "Please create the plot and do the related calculations below."
   ]
  },
  {
   "cell_type": "code",
   "execution_count": null,
   "metadata": {
    "deletable": false,
    "nbgrader": {
     "cell_type": "code",
     "checksum": "c63fd6594ffea84bc1def58bbe8d5580",
     "grade": false,
     "grade_id": "problem_1_ag_p4_plot4",
     "locked": false,
     "schema_version": 3,
     "solution": true,
     "task": false
    }
   },
   "outputs": [],
   "source": [
    "# Reduce the diffusivity by half\n",
    "hillslope['Half diffusivity'] = None\n",
    "\n",
    "# YOUR CODE HERE\n",
    "raise NotImplementedError()"
   ]
  },
  {
   "cell_type": "markdown",
   "metadata": {
    "deletable": false,
    "nbgrader": {
     "cell_type": "markdown",
     "checksum": "6dde8163811f5ce9a5a25ba411bc25f3",
     "grade": true,
     "grade_id": "problem_1_mg_p4_plot4",
     "locked": false,
     "points": 1,
     "schema_version": 3,
     "solution": true
    }
   },
   "source": [
    "YOUR ANSWER HERE"
   ]
  },
  {
   "cell_type": "code",
   "execution_count": null,
   "metadata": {
    "deletable": false,
    "editable": false,
    "nbgrader": {
     "cell_type": "code",
     "checksum": "b82601dcbc795dfe0b95c964d4b1cdc6",
     "grade": true,
     "grade_id": "problem_1_ag_p4_plot4_test1",
     "locked": true,
     "points": 0.5,
     "schema_version": 3,
     "solution": false,
     "task": false
    }
   },
   "outputs": [],
   "source": [
    "# This test should display the max hillslope angle in degrees\n",
    "print('The maximum hillslope angle in degrees should now be 45.0. My calculated value is {0:.1f}.'.format(max_slope_deg))\n"
   ]
  },
  {
   "cell_type": "markdown",
   "metadata": {
    "deletable": false,
    "editable": false,
    "nbgrader": {
     "cell_type": "markdown",
     "checksum": "bbb31e6aa102be9cdf58df4cfa740775",
     "grade": false,
     "grade_id": "cell-f47cd6385792d449",
     "locked": true,
     "schema_version": 3,
     "solution": false
    }
   },
   "source": [
    "## Part 5: Questions for Problem 1 (2 points)\n",
    "\n",
    "1. At what value of $x$ (distance from the divide) is the maximum slope?\n",
    "2. Where is the maximum slope in relation to the crest of the interfluve and the river channel?\n",
    "3. What does a characteristic timescale mean?\n",
    "4. What is the value for the characteristic timescale for Part 3? Does it seem reasonable? Why or why not?"
   ]
  },
  {
   "cell_type": "markdown",
   "metadata": {
    "deletable": false,
    "nbgrader": {
     "cell_type": "markdown",
     "checksum": "6df68ed8cea425a6e4730411ce7bac12",
     "grade": true,
     "grade_id": "problem_1_mg_p5_questions",
     "locked": false,
     "points": 2,
     "schema_version": 3,
     "solution": true
    }
   },
   "source": [
    "YOUR ANSWER HERE"
   ]
  },
  {
   "cell_type": "markdown",
   "metadata": {
    "deletable": false,
    "editable": false,
    "nbgrader": {
     "cell_type": "markdown",
     "checksum": "f942d9f74c6fa37fa099ae6ae038e4f5",
     "grade": false,
     "grade_id": "cell-3ac6a9b7bb710526",
     "locked": true,
     "schema_version": 3,
     "solution": false
    }
   },
   "source": [
    "# Problem 2: Incision history of the western Sierra Nevada mountains, California, USA (*7.5 points*)\n",
    "\n",
    "In this problem we'll continue using our diffusive hillslope equation, but apply it to natural interfluves in mountainous regions. Active mountain ranges typically have poorly developed soils and abundant exposed bedrock.\n",
    "\n",
    "For this section we will apply our model equation to a real landscape, the western Sierra Nevada mountains in California, USA. We will use a [topographic profile](data/sierras_profile.txt) extracted across an interfluve between two streams draining into the Yuba River and change the landscape uplift rate in the diffusive hillslope equation until we get a reasonable match to the observed profile.\n",
    "\n",
    "Before we do anything, it is important that you know the location of the topographic profile.\n",
    "\n",
    "![Topographic profile location](img/Sierras_profile_map.png)\n",
    "*Figure 1. Shaded relief digital elevation model of the western Sierra Nevada Mountains in California, USA. The line A-A´ is the location of a topographic profile used in Problem 2.*\n",
    "\n",
    "**Notice**: Closely follow the instructions! For example, you should be sure to use **exactly** the same variable names mentioned in the instructions because your answers will be automatically graded, and the tests that grade your answers rely on following the same formatting or variable naming as in the instructions.\n",
    "\n",
    "**Your score on this problem will be based on following criteria**:\n",
    "\n",
    "- Reading in the data file\n",
    "- Calculating hillslope profiles for the geometry of the observed hillslope profile\n",
    "- Plotting your results\n",
    "- Creating a goodness-of-fit function for comparing the natural and predicted hillslope profiles\n",
    "- Finding an uplift rate `U` that best reproduces the observed hillslope profile\n",
    "- Including comments that explain what most lines in the code do\n",
    "- Uploading your notebook to your GitHub repository for this week's exercise"
   ]
  },
  {
   "cell_type": "markdown",
   "metadata": {
    "deletable": false,
    "editable": false,
    "nbgrader": {
     "cell_type": "markdown",
     "checksum": "5b246d9cf2d058a3667f7fd501e26347",
     "grade": false,
     "grade_id": "cell-0359ff406307513a",
     "locked": true,
     "schema_version": 3,
     "solution": false,
     "task": false
    }
   },
   "source": [
    "## Part 1: Reading the data file (*1 point*)\n",
    "\n",
    "Now that you know where the profile is located we can read the [data file](data/sierras_profile.txt) using Pandas.\n",
    "It contains distances from the drainage divide and elevations for the topographic profile A-A´.\n",
    "\n",
    "To help you in deciding how to read in the data file, the top 5 lines of the data file are below.\n",
    "```\n",
    "Distance (m),Observed elevation (m)\n",
    "-4.8200000e+003,7.4000000e+002\n",
    "-4.7882718e+003,7.5200000e+002\n",
    "-4.7565436e+003,7.7100000e+002\n",
    "-4.7248155e+003,7.9700000e+002\n",
    "```\n",
    "\n",
    "- Read the data file into a DataFrame called `sierras` with the given column headings\n",
    "    - Use 'Distance (m)' as the index column"
   ]
  },
  {
   "cell_type": "code",
   "execution_count": null,
   "metadata": {
    "deletable": false,
    "nbgrader": {
     "cell_type": "code",
     "checksum": "959ea830982a6a03b0bc0d8d42578376",
     "grade": false,
     "grade_id": "problem_2_ag_p1_read_data",
     "locked": false,
     "schema_version": 3,
     "solution": true
    }
   },
   "outputs": [],
   "source": [
    "sierras = None\n",
    "\n",
    "# YOUR CODE HERE\n",
    "raise NotImplementedError()"
   ]
  },
  {
   "cell_type": "code",
   "execution_count": null,
   "metadata": {
    "deletable": false,
    "editable": false,
    "nbgrader": {
     "cell_type": "code",
     "checksum": "f7c643142aa32f8d50db2d321161f390",
     "grade": true,
     "grade_id": "problem_2_ag_p1_read_data_test1",
     "locked": true,
     "points": 1,
     "schema_version": 3,
     "solution": false
    }
   },
   "outputs": [],
   "source": [
    "# This test should print the first row of the data file\n",
    "print(\"First 5 rows of the data file:\\n\", sierras.head())\n"
   ]
  },
  {
   "cell_type": "markdown",
   "metadata": {
    "deletable": false,
    "editable": false,
    "nbgrader": {
     "cell_type": "markdown",
     "checksum": "71d94dacfd35be91d70020f23b8b6150",
     "grade": false,
     "grade_id": "cell-39114401bd4844fe",
     "locked": true,
     "schema_version": 3,
     "solution": false,
     "task": false
    }
   },
   "source": [
    "## Part 2: Extracting mountain hillslope profile data (*1 point*)\n",
    "\n",
    "With the data file loaded, we can now calculate an example diffusive hillslope profile using the geometry of the natural hillslope from the Sierra Nevada mountains. Let's start by having a look at the hillslope profile.\n",
    "\n",
    "![Topographic profile](img/sierras_profile.png)\n",
    "\n",
    "*Figure 2. Topographic profile across an interfluve between 2 streams draining into the Yuba River, Sierra Nevada mountains, California, USA.*\n",
    "\n",
    "To make our plot, we need to extract the half-width of the profile and the distances at which the hillslope profile should be calculated.\n",
    "\n",
    "- Find the hillslope half-width from the data read from the hillslope profile data file\n",
    "    - This value can be calculated as the absolute value of the minimum of the `sierras` DataFrame index\n",
    "    - Define this as variable `L_sierras`\n",
    "- Find the distances at which the profile elevations should be calculated\n",
    "    - These should be the same distances from the data file\n",
    "    - Define these as variable `x_sierras`"
   ]
  },
  {
   "cell_type": "code",
   "execution_count": null,
   "metadata": {
    "deletable": false,
    "nbgrader": {
     "cell_type": "code",
     "checksum": "f37ccfd5c0b88e1f14bedbb90fdc5084",
     "grade": false,
     "grade_id": "problem_2_ag_p2_find_vals",
     "locked": false,
     "schema_version": 3,
     "solution": true,
     "task": false
    }
   },
   "outputs": [],
   "source": [
    "# Find the half-width of the hillslope profile\n",
    "L_sierras = None\n",
    "\n",
    "# Find the distances at which to calculate the hillslope elevations\n",
    "x_sierras = None\n",
    "\n",
    "# YOUR CODE HERE\n",
    "raise NotImplementedError()"
   ]
  },
  {
   "cell_type": "code",
   "execution_count": null,
   "metadata": {
    "deletable": false,
    "editable": false,
    "nbgrader": {
     "cell_type": "code",
     "checksum": "213a450a660436a882e0edf6236bc24b",
     "grade": true,
     "grade_id": "problem_2_ag_p2_find_vals_test1",
     "locked": true,
     "points": 1,
     "schema_version": 3,
     "solution": false,
     "task": false
    }
   },
   "outputs": [],
   "source": [
    "# This should print the first value of x\n",
    "print('The first value of x should be -4820.0. My value is {0:.1f}.'.format(x_sierras[0]))\n"
   ]
  },
  {
   "cell_type": "markdown",
   "metadata": {
    "deletable": false,
    "editable": false,
    "nbgrader": {
     "cell_type": "markdown",
     "checksum": "0f1a35668a65445b33c7a3295de2cbad",
     "grade": false,
     "grade_id": "cell-31869fb0e9063d5c",
     "locked": true,
     "schema_version": 3,
     "solution": false,
     "task": false
    }
   },
   "source": [
    "## Part 3: A mountain hillslope profile (*1.5 points*)\n",
    "\n",
    "For this question, you can use your same `hillslope_profile` function from Problem 1.\n",
    "\n",
    "- Calculate a hillslope profile assuming an uplift rate of 0.5 mm/a, and an appropriate diffusivity for rock of 1.8 m<sup>2</sup>/a\n",
    "    - The $L$ and $x$ values should be taken from Part 2 of this problem\n",
    "- Add the calculated hillslope profile as a new column in the `sierras` DataFrame called `'Predicted elevation (m)'`\n",
    "\n",
    "- Plot the value of `'Predicted elevation (m)'` as a function of the distance along your hillslope profile\n",
    "    - Use a color of your choice for the line\n",
    "    - It may be helpful to again increase the figure size to something like 12 inches by 8 inches\n",
    "- Add axis labels and a plot title\n",
    "- Again calculate the maximum slope and its value in degrees, the maximum relief, and the characteristic timescale and display those values on the plot\n",
    "- Add a figure caption in the Markdown cell below the plot explaining what it shows as if it was in a scientific publication"
   ]
  },
  {
   "cell_type": "code",
   "execution_count": null,
   "metadata": {
    "deletable": false,
    "nbgrader": {
     "cell_type": "code",
     "checksum": "02dff0403cc06f280a59909cdb1f8212",
     "grade": false,
     "grade_id": "problem_2_ag_p3_plot1",
     "locked": false,
     "schema_version": 3,
     "solution": true,
     "task": false
    }
   },
   "outputs": [],
   "source": [
    "# Calculate elevations for natural landscape\n",
    "sierras['Predicted elevation (m)'] = None\n",
    "\n",
    "# Calculate the hillslope properties\n",
    "max_slope = None\n",
    "max_slope_deg = None\n",
    "max_relief = None\n",
    "tau = None\n",
    "\n",
    "# YOUR CODE HERE\n",
    "raise NotImplementedError()"
   ]
  },
  {
   "cell_type": "markdown",
   "metadata": {
    "deletable": false,
    "nbgrader": {
     "cell_type": "markdown",
     "checksum": "0bb2858fd6ae11f357f32f3816af28b0",
     "grade": true,
     "grade_id": "problem_2_mg_p3_plot1",
     "locked": false,
     "points": 1,
     "schema_version": 3,
     "solution": true
    }
   },
   "source": [
    "YOUR ANSWER HERE"
   ]
  },
  {
   "cell_type": "code",
   "execution_count": null,
   "metadata": {
    "deletable": false,
    "editable": false,
    "nbgrader": {
     "cell_type": "code",
     "checksum": "985f18872f1d026f0406aeaab73aa54d",
     "grade": true,
     "grade_id": "problem_2_ag_p3_plot1_test1",
     "locked": true,
     "points": 0.5,
     "schema_version": 3,
     "solution": false,
     "task": false
    }
   },
   "outputs": [],
   "source": [
    "# This test should display the max hillslope angle in degrees\n",
    "print('The maximum hillslope angle in degrees should now be 53.2. My calculated value is {0:.1f}.'.format(max_slope_deg))\n"
   ]
  },
  {
   "cell_type": "markdown",
   "metadata": {
    "deletable": false,
    "editable": false,
    "nbgrader": {
     "cell_type": "markdown",
     "checksum": "673980aaba7e61e6c586208aea224a46",
     "grade": false,
     "grade_id": "cell-1e60d8c567901b10",
     "locked": true,
     "schema_version": 3,
     "solution": false,
     "task": false
    }
   },
   "source": [
    "## Part 4: A modified goodness-of-fit function (*1 point*)\n",
    "\n",
    "Our next task is to create a Python function for calculating a goodness of fit. This will allow us to *quantitatively* compare our diffusive hillslope profiles to the natural hillslope profile from the Sierra Nevada mountains.\n",
    "\n",
    "For this we will use a slightly different form of the chi-squared function we used last week, since we do not have a standard deviation value for the oberved elevation data. The modified form is\n",
    "\n",
    "\\begin{equation}\n",
    "  \\Large\n",
    "  \\chi^{2} = \\sum \\frac{(O_{i} - E_{i})^{2}}{E_{i}}\n",
    "\\end{equation}\n",
    "\n",
    "where $O_{i}$ is the $i$th observed elevation and $E_{i}$ is the $i$th expected elevation. In this case, the $E_{i}$ values come from our hillslope profile function.\n",
    "\n",
    "- Create a goodness-of-fit function called `chi_squared`"
   ]
  },
  {
   "cell_type": "code",
   "execution_count": null,
   "metadata": {
    "deletable": false,
    "nbgrader": {
     "cell_type": "code",
     "checksum": "3111bacff1b82229724c982b88901d46",
     "grade": false,
     "grade_id": "problem_2_ag_p4_function",
     "locked": false,
     "schema_version": 3,
     "solution": true,
     "task": false
    }
   },
   "outputs": [],
   "source": [
    "def chi_squared(observed, expected):\n",
    "    \"\"\"Returns the chi-squared value for input array data.\"\"\"\n",
    "# YOUR CODE HERE\n",
    "raise NotImplementedError()"
   ]
  },
  {
   "cell_type": "code",
   "execution_count": null,
   "metadata": {
    "deletable": false,
    "editable": false,
    "nbgrader": {
     "cell_type": "code",
     "checksum": "30210329b5f8c52ed5a9e2cf5e78a2fd",
     "grade": true,
     "grade_id": "problem_2_ag_p4_function_test1",
     "locked": true,
     "points": 1,
     "schema_version": 3,
     "solution": false,
     "task": false
    }
   },
   "outputs": [],
   "source": [
    "# These visible tests with fake data should work\n",
    "from nose.tools import ok_, assert_equal\n",
    "\n",
    "# Fake data\n",
    "obs1 = np.array([1.1, 2.9, 2.6, 3.5, 5.7, 2.8])\n",
    "exp1 = np.array([1.5, 2.4, 3.6, 1.5, 6.7, 2.6])\n",
    "\n",
    "obs2 = np.array([1.8, 2.3, 2.2, 3.9, 5.5, 2.4])\n",
    "exp2 = np.array([1.2, 2.0, 3.9, 1.7, 6.1, 2.9])\n",
    "\n",
    "# Fake goodness-of-fit values\n",
    "cs1 = chi_squared(obs1, exp1)\n",
    "cs2 = chi_squared(obs2, exp2)\n",
    "\n",
    "# Print results\n",
    "print(\"Goodness-of-fit for dataset 1: {0:.4f}.\".format(cs1))\n",
    "print(\"Goodness-of-fit for dataset 2: {0:.4f}.\".format(cs2))\n",
    "\n",
    "# Check that the chi-squared function works\n",
    "assert_equal(round(cs1, 4), 3.3199)\n",
    "assert_equal(round(cs2, 4), 4.0783)"
   ]
  },
  {
   "cell_type": "markdown",
   "metadata": {
    "deletable": false,
    "editable": false,
    "nbgrader": {
     "cell_type": "markdown",
     "checksum": "43672e65b7ae524d67eef57c725aec5c",
     "grade": false,
     "grade_id": "cell-bb85fc78d622e0f1",
     "locked": true,
     "schema_version": 3,
     "solution": false,
     "task": false
    }
   },
   "source": [
    "## Part 5: Fitting the model to the data (*2 points*)\n",
    "\n",
    "Your final coding task is to vary some the uplift rate for the hillslope diffusion equation in order to try to match the hillslope profile from the Sierras in Figure 2. You will only be exploring variations in landscape uplift rates (`U`), but the values for the other variables will not change.\n",
    "\n",
    "- Calculate the diffusive hillslope profile similarly to how it was done in Part 3\n",
    "    - You can overwrite the values in the `sierras['Predicted elevation (m)'` column with the new calculation\n",
    "    - **Note**: Because the elevation of the rivers in the topographic profile are at ~750 m above sea level, you will need to shift all the model profile elevations upwards by 750 m to compare them\n",
    "- Plot your calculated hillslope profile in the same way as in Part 3, with a few minor changes\n",
    "    - Plot the observed topographic profile from the data file using a black dashed line and the calculated hillslope profile using a color of your choice\n",
    "    - Adjust the landscape uplift rate `U` until you have a good match between the geometries of the calculated hillslope profile and the observed topographic profile\n",
    "         - You can use your goodness-of-fit value to guide your selection of `U` values\n",
    "         - You do not need to find the absolute minimum goodness-of-fit, just the value where the goodness-of-fit does not decrease when you increase or decrease `U` by $\\pm 0.02$ mm/a.\n",
    "    - Add some text to the plot using the `ax.text()` function to display\n",
    "        1. Your best-fit uplift rate\n",
    "        2. The goodness-of-fit\n",
    "    - Note that you do not need to include the other values (slope, relief, etc.) from Part 1 as text on this plot.\n",
    "- Add a figure caption in the Markdown cell below the plot explaining what it shows as if it was in a scientific publication"
   ]
  },
  {
   "cell_type": "code",
   "execution_count": null,
   "metadata": {
    "deletable": false,
    "nbgrader": {
     "cell_type": "code",
     "checksum": "4e2ed33585769e7800ddfb2b7d177980",
     "grade": true,
     "grade_id": "problem_2_p5_mg_fit",
     "locked": false,
     "points": 1.5,
     "schema_version": 3,
     "solution": true
    }
   },
   "outputs": [],
   "source": [
    "# YOUR CODE HERE\n",
    "raise NotImplementedError()"
   ]
  },
  {
   "cell_type": "markdown",
   "metadata": {
    "deletable": false,
    "nbgrader": {
     "cell_type": "markdown",
     "checksum": "767aae9bd4e0111f260dc718dedcd358",
     "grade": true,
     "grade_id": "problem_2_mg_p5_caption",
     "locked": false,
     "points": 0.5,
     "schema_version": 3,
     "solution": true
    }
   },
   "source": [
    "YOUR ANSWER HERE"
   ]
  },
  {
   "cell_type": "markdown",
   "metadata": {
    "deletable": false,
    "editable": false,
    "nbgrader": {
     "cell_type": "markdown",
     "checksum": "f514783027cde3eab64ad33aa3f764c8",
     "grade": false,
     "grade_id": "cell-734f358acbb9298d",
     "locked": true,
     "schema_version": 3,
     "solution": false
    }
   },
   "source": [
    "## Part 6: Questions for Problem 2 (*1 point*)\n",
    "\n",
    "1. Discuss the implications of your results for Part 1 for mountain hillslopes in 2-3 sentences. What do the various values you have calculated imply for natural systems? How long might they take to respond to changes in river erosion rates, for example?\n",
    "2. Does the uplift rate that best fits the observed topographic profile for the Sierra Nevada mountains seem reasonable? Why or why not? What information have you based your answer on?"
   ]
  },
  {
   "cell_type": "markdown",
   "metadata": {
    "deletable": false,
    "nbgrader": {
     "cell_type": "markdown",
     "checksum": "8e7f48e47e67f7f5ff038bc82b4787a2",
     "grade": true,
     "grade_id": "problem_2_mg_p6_questions",
     "locked": false,
     "points": 1,
     "schema_version": 3,
     "solution": true
    }
   },
   "source": [
    "YOUR ANSWER HERE"
   ]
  }
 ],
 "metadata": {
  "kernelspec": {
   "display_name": "Python 3",
   "language": "python",
   "name": "python3"
  },
  "language_info": {
   "codemirror_mode": {
    "name": "ipython",
    "version": 3
   },
   "file_extension": ".py",
   "mimetype": "text/x-python",
   "name": "python",
   "nbconvert_exporter": "python",
   "pygments_lexer": "ipython3",
   "version": "3.7.4"
  }
 },
 "nbformat": 4,
 "nbformat_minor": 2
}
